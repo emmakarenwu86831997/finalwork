{
 "cells": [
  {
   "cell_type": "code",
   "execution_count": 10,
   "metadata": {},
   "outputs": [
    {
     "name": "stdout",
     "output_type": "stream",
     "text": [
      "<class 'pandas.core.frame.DataFrame'>\n",
      "RangeIndex: 4205 entries, 0 to 4204\n",
      "Data columns (total 9 columns):\n",
      "證券代碼       4205 non-null object\n",
      "年          4205 non-null int64\n",
      "月          4205 non-null int64\n",
      "日          4205 non-null int64\n",
      "開盤價(元)     4205 non-null float64\n",
      "最高價(元)     4205 non-null float64\n",
      "最低價(元)     4205 non-null float64\n",
      "收盤價(元)     4205 non-null float64\n",
      "成交量(千股)    4205 non-null int64\n",
      "dtypes: float64(4), int64(4), object(1)\n",
      "memory usage: 295.8+ KB\n",
      "None\n"
     ]
    }
   ],
   "source": [
    "import pandas as pd\n",
    "\n",
    "data = pd.read_excel('50data.xlsx')\n",
    "data1 = pd.read_excel('2330data.xlsx')\n",
    "print(data1.info())"
   ]
  },
  {
   "cell_type": "code",
   "execution_count": 38,
   "metadata": {},
   "outputs": [
    {
     "name": "stdout",
     "output_type": "stream",
     "text": [
      "      0050開盤價(元)  0050最高價(元)  0050最低價(元)  0050收盤價(元)  0050成交量(千股)  2330開盤價(元)  \\\n",
      "0       0.114943    0.106052    0.120080    0.109696     0.068348    0.026406   \n",
      "1       0.114799    0.116235    0.122513    0.123734     0.100144    0.026373   \n",
      "2       0.130316    0.126709    0.136969    0.132996     0.114307    0.029938   \n",
      "3       0.165230    0.152604    0.147130    0.137482     0.118734    0.037958   \n",
      "4       0.143678    0.133110    0.146272    0.141245     0.087025    0.033007   \n",
      "...          ...         ...         ...         ...          ...         ...   \n",
      "4193    0.835489    0.849433    0.838271    0.850217     0.153185    0.191938   \n",
      "4194    0.847701    0.846523    0.835409    0.832127     0.065744    0.194743   \n",
      "4195    0.848420    0.859616    0.853299    0.859624     0.074992    0.194908   \n",
      "4196    0.863506    0.859616    0.855446    0.861071     0.079870    0.198374   \n",
      "4197    0.861351    0.861071    0.856161    0.859624     0.032650    0.197879   \n",
      "\n",
      "      2330最高價(元)  2330最低價(元)  2330收盤價(元)  2330成交量(千股)  \n",
      "0       0.024363    0.027586    0.025201     0.015702  \n",
      "1       0.026703    0.028145    0.028425     0.023006  \n",
      "2       0.029109    0.031466    0.030553     0.026260  \n",
      "3       0.035058    0.033800    0.031584     0.027277  \n",
      "4       0.030580    0.033603    0.032448     0.019992  \n",
      "...          ...         ...         ...          ...  \n",
      "4193    0.195141    0.192577    0.195321     0.035191  \n",
      "4194    0.194473    0.191919    0.191165     0.015104  \n",
      "4195    0.197480    0.196029    0.197482     0.017228  \n",
      "4196    0.197480    0.196522    0.197815     0.018349  \n",
      "4197    0.197815    0.196687    0.197482     0.007501  \n",
      "\n",
      "[4198 rows x 10 columns]\n"
     ]
    }
   ],
   "source": [
    "from sklearn.preprocessing import MinMaxScaler \n",
    "\n",
    "\n",
    "\n",
    "##### 正規化\n",
    "data_scaled = data.iloc[:, 4:]\n",
    "data1_scaled = data.iloc[:, 4:]\n",
    "sc = MinMaxScaler(feature_range = (0, 1)) \n",
    "data_scaled= pd.DataFrame(sc.fit_transform(data_scaled))\n",
    "data_scaled.columns = ['0050開盤價(元)', '0050最高價(元)', '0050最低價(元)', '0050收盤價(元)', '0050成交量(千股)'] \n",
    "data1_scaled= pd.DataFrame(sc.fit_transform(data1_scaled))\n",
    "data1_scaled.columns = ['2330開盤價(元)', '2330最高價(元)', '2330最低價(元)', '2330收盤價(元)', '2330成交量(千股)'] \n",
    "\n",
    "##### 2330乘以權重（22.9731%）\n",
    "data1_scaled = data1_scaled*0.229731\n",
    "\n",
    "#### 合併數據\n",
    "data2 = pd.concat([data_scaled, data1_scaled], axis=1)\n",
    "print(data2)\n",
    "data2.to_excel('合併後.xlsx')\n",
    "\n",
    "\n",
    "\n"
   ]
  },
  {
   "cell_type": "code",
   "execution_count": null,
   "metadata": {},
   "outputs": [],
   "source": []
  },
  {
   "cell_type": "code",
   "execution_count": null,
   "metadata": {},
   "outputs": [],
   "source": []
  },
  {
   "cell_type": "code",
   "execution_count": null,
   "metadata": {},
   "outputs": [],
   "source": []
  },
  {
   "cell_type": "code",
   "execution_count": null,
   "metadata": {},
   "outputs": [],
   "source": []
  },
  {
   "cell_type": "code",
   "execution_count": null,
   "metadata": {},
   "outputs": [],
   "source": []
  }
 ],
 "metadata": {
  "kernelspec": {
   "display_name": "Python 3",
   "language": "python",
   "name": "python3"
  },
  "language_info": {
   "codemirror_mode": {
    "name": "ipython",
    "version": 3
   },
   "file_extension": ".py",
   "mimetype": "text/x-python",
   "name": "python",
   "nbconvert_exporter": "python",
   "pygments_lexer": "ipython3",
   "version": "3.7.4"
  }
 },
 "nbformat": 4,
 "nbformat_minor": 2
}
